{
  "nbformat": 4,
  "nbformat_minor": 0,
  "metadata": {
    "colab": {
      "provenance": []
    },
    "kernelspec": {
      "name": "python3",
      "display_name": "Python 3"
    },
    "language_info": {
      "name": "python"
    }
  },
  "cells": [
    {
      "cell_type": "code",
      "execution_count": 1,
      "metadata": {
        "id": "uHHEtttRxGae"
      },
      "outputs": [],
      "source": [
        "import numpy as np"
      ]
    },
    {
      "cell_type": "markdown",
      "source": [
        "1. Задати вектор, що складається з перших п'яти натуральних чисел."
      ],
      "metadata": {
        "id": "stQ-NsZCxZ5J"
      }
    },
    {
      "cell_type": "code",
      "source": [
        "vector = np.array([1,2,3,4,5])\n",
        "vector\n"
      ],
      "metadata": {
        "colab": {
          "base_uri": "https://localhost:8080/"
        },
        "id": "M8iQbheCxq7i",
        "outputId": "4f425b56-f829-4367-dfe7-5a5049ef7215"
      },
      "execution_count": 3,
      "outputs": [
        {
          "output_type": "execute_result",
          "data": {
            "text/plain": [
              "array([1, 2, 3, 4, 5])"
            ]
          },
          "metadata": {},
          "execution_count": 3
        }
      ]
    },
    {
      "cell_type": "markdown",
      "source": [
        "2. Транспортувати вектор"
      ],
      "metadata": {
        "id": "rWtig3RWybEY"
      }
    },
    {
      "cell_type": "code",
      "source": [
        "v1 = np.matrix([1,2,3,4,5])\n",
        "print(v1)\n",
        "v2 = v1.T\n",
        "v2"
      ],
      "metadata": {
        "colab": {
          "base_uri": "https://localhost:8080/"
        },
        "id": "agfnX44WyhxG",
        "outputId": "81700f2e-0be1-46d2-cad0-12ad2f26c27e"
      },
      "execution_count": 4,
      "outputs": [
        {
          "output_type": "stream",
          "name": "stdout",
          "text": [
            "[[1 2 3 4 5]]\n"
          ]
        },
        {
          "output_type": "execute_result",
          "data": {
            "text/plain": [
              "matrix([[1],\n",
              "        [2],\n",
              "        [3],\n",
              "        [4],\n",
              "        [5]])"
            ]
          },
          "metadata": {},
          "execution_count": 4
        }
      ]
    },
    {
      "cell_type": "markdown",
      "source": [
        "3. Напишіть функцію, яка перевертає вектор у зворотньому порядку"
      ],
      "metadata": {
        "id": "f_IDEUnvzEOH"
      }
    },
    {
      "cell_type": "code",
      "source": [
        "v = np.array([1,2,3,4,5])\n",
        "print(v[::-1])"
      ],
      "metadata": {
        "colab": {
          "base_uri": "https://localhost:8080/"
        },
        "id": "rHB6FThYzQhF",
        "outputId": "a5617f72-15dd-481a-bee3-7bf2dbe36aa4"
      },
      "execution_count": 5,
      "outputs": [
        {
          "output_type": "stream",
          "name": "stdout",
          "text": [
            "[5 4 3 2 1]\n"
          ]
        }
      ]
    },
    {
      "cell_type": "code",
      "source": [
        "v = np.flip(v)\n",
        "print(v)"
      ],
      "metadata": {
        "colab": {
          "base_uri": "https://localhost:8080/"
        },
        "id": "mh4vDmDMzfM4",
        "outputId": "5cc6e61d-c101-44ef-ddb4-852d88a5070d"
      },
      "execution_count": 6,
      "outputs": [
        {
          "output_type": "stream",
          "name": "stdout",
          "text": [
            "[5 4 3 2 1]\n"
          ]
        }
      ]
    },
    {
      "cell_type": "markdown",
      "source": [
        "4. Обчислити середнє значення вектора"
      ],
      "metadata": {
        "id": "azy8CPnMz1mB"
      }
    },
    {
      "cell_type": "code",
      "source": [
        "print(np.mean(v))"
      ],
      "metadata": {
        "colab": {
          "base_uri": "https://localhost:8080/"
        },
        "id": "VwtNgrL1z9GE",
        "outputId": "0c405ed9-eba1-40c7-b00b-25cb10cdb8ee"
      },
      "execution_count": 7,
      "outputs": [
        {
          "output_type": "stream",
          "name": "stdout",
          "text": [
            "3.0\n"
          ]
        }
      ]
    },
    {
      "cell_type": "markdown",
      "source": [
        "5. Знайти найбільший і найменший елементи вектора"
      ],
      "metadata": {
        "id": "0DPxSYMd0IrF"
      }
    },
    {
      "cell_type": "code",
      "source": [
        "print(np.max(v))\n",
        "print(np.min(v))"
      ],
      "metadata": {
        "colab": {
          "base_uri": "https://localhost:8080/"
        },
        "id": "3ZftsZEq0joq",
        "outputId": "55de06c4-d961-4745-fdfe-63af1301fe5d"
      },
      "execution_count": 8,
      "outputs": [
        {
          "output_type": "stream",
          "name": "stdout",
          "text": [
            "5\n",
            "1\n"
          ]
        }
      ]
    },
    {
      "cell_type": "markdown",
      "source": [
        "6. Обчислити скалярний добуток (dot product) двох векторів"
      ],
      "metadata": {
        "id": "Y4M2Eweb0trY"
      }
    },
    {
      "cell_type": "code",
      "source": [
        "v1 = np.array([1,2,3])\n",
        "v2 = np.array([4,5,6])\n",
        "\n",
        "print(np.dot(v1,v2))\n",
        "print(v1*v2)"
      ],
      "metadata": {
        "colab": {
          "base_uri": "https://localhost:8080/"
        },
        "id": "mFhNVJIX04iI",
        "outputId": "81bc07b6-afbd-46cf-e48a-e5ad046a6d1b"
      },
      "execution_count": 9,
      "outputs": [
        {
          "output_type": "stream",
          "name": "stdout",
          "text": [
            "32\n",
            "[ 4 10 18]\n"
          ]
        }
      ]
    },
    {
      "cell_type": "markdown",
      "source": [
        "7. Напишіть функцію яка нормалізує вектор (зводить до одиничної довжини)."
      ],
      "metadata": {
        "id": "wDborrxY1QGm"
      }
    },
    {
      "cell_type": "code",
      "source": [
        "v = np.array([1,2,3,4,5])\n",
        "norm = np.linalg.norm(v)\n",
        "\n",
        "print(norm)\n",
        "\n",
        "v/norm"
      ],
      "metadata": {
        "colab": {
          "base_uri": "https://localhost:8080/"
        },
        "id": "uK8hQPJq1jrn",
        "outputId": "dd3b6a79-1041-4cb6-e79a-441137c6940b"
      },
      "execution_count": 10,
      "outputs": [
        {
          "output_type": "stream",
          "name": "stdout",
          "text": [
            "7.416198487095663\n"
          ]
        },
        {
          "output_type": "execute_result",
          "data": {
            "text/plain": [
              "array([0.13483997, 0.26967994, 0.40451992, 0.53935989, 0.67419986])"
            ]
          },
          "metadata": {},
          "execution_count": 10
        }
      ]
    },
    {
      "cell_type": "markdown",
      "source": [
        "8. Задайте два вектори. Визначте, чи є вони ортогональними. Підказка: якщо скалярний добуток дорівнює нулю - вектори ортогональні."
      ],
      "metadata": {
        "id": "fzZ5hsnY2bKB"
      }
    },
    {
      "cell_type": "code",
      "source": [
        "v1 = np.array([1,0,0])\n",
        "v2 = np.array([0,1,0])\n",
        "\n",
        "np.dot(v1,v2)"
      ],
      "metadata": {
        "colab": {
          "base_uri": "https://localhost:8080/"
        },
        "id": "2cJES4uz2yIL",
        "outputId": "31984117-b31e-47da-ef62-1ed831e2f90d"
      },
      "execution_count": 11,
      "outputs": [
        {
          "output_type": "execute_result",
          "data": {
            "text/plain": [
              "np.int64(0)"
            ]
          },
          "metadata": {},
          "execution_count": 11
        }
      ]
    },
    {
      "cell_type": "markdown",
      "source": [
        "9. Визначити унікальні елементи вектора"
      ],
      "metadata": {
        "id": "0EfgT1xy3CqT"
      }
    },
    {
      "cell_type": "code",
      "source": [
        "v = np.array([1,2,3,2,4,5,3])\n",
        "np.unique(v)"
      ],
      "metadata": {
        "colab": {
          "base_uri": "https://localhost:8080/"
        },
        "id": "AH4EB2H53Hop",
        "outputId": "25b81122-6aa4-4514-dfbe-9ba48dc57c46"
      },
      "execution_count": 12,
      "outputs": [
        {
          "output_type": "execute_result",
          "data": {
            "text/plain": [
              "array([1, 2, 3, 4, 5])"
            ]
          },
          "metadata": {},
          "execution_count": 12
        }
      ]
    },
    {
      "cell_type": "markdown",
      "source": [
        "10. Знайти вектори"
      ],
      "metadata": {
        "id": "nVmXURtr3dre"
      }
    },
    {
      "cell_type": "code",
      "source": [
        "v1 = np.array([1,2,3])\n",
        "v2 = np.array([4,5,6])\n",
        "\n",
        "print(v1 - v2)\n",
        "print(v2 - v1)\n",
        "print(v1 + v2)\n",
        "print(v2 + v1)\n",
        "print(v1 * v2)\n",
        "print(v2 * v1)\n",
        "print(v1 / v2)\n",
        "print(v2 / v1)"
      ],
      "metadata": {
        "colab": {
          "base_uri": "https://localhost:8080/"
        },
        "id": "OK4C-RTb3iN_",
        "outputId": "c5a226b3-7e8a-4b6d-aea1-fa2210e59849"
      },
      "execution_count": 13,
      "outputs": [
        {
          "output_type": "stream",
          "name": "stdout",
          "text": [
            "[-3 -3 -3]\n",
            "[3 3 3]\n",
            "[5 7 9]\n",
            "[5 7 9]\n",
            "[ 4 10 18]\n",
            "[ 4 10 18]\n",
            "[0.25 0.4  0.5 ]\n",
            "[4.  2.5 2. ]\n"
          ]
        }
      ]
    },
    {
      "cell_type": "markdown",
      "source": [
        "11. Перевірити, чи дорівнює довжина вектора 5"
      ],
      "metadata": {
        "id": "nXTLT_8A5BMW"
      }
    },
    {
      "cell_type": "code",
      "source": [
        "vector = np.array([1,2,3,4,5])\n",
        "length = np.linalg.norm(vector)\n",
        "\n",
        "np.isclose(length, 5)"
      ],
      "metadata": {
        "colab": {
          "base_uri": "https://localhost:8080/"
        },
        "id": "m6Ieeijw5IT1",
        "outputId": "d9127e9d-72bc-46e3-9263-601001b0d8f3"
      },
      "execution_count": 14,
      "outputs": [
        {
          "output_type": "execute_result",
          "data": {
            "text/plain": [
              "np.False_"
            ]
          },
          "metadata": {},
          "execution_count": 14
        }
      ]
    },
    {
      "cell_type": "markdown",
      "source": [
        "12. Задати матрицю, заповнену випадковими числами"
      ],
      "metadata": {
        "id": "F55ZkRPd5lrj"
      }
    },
    {
      "cell_type": "code",
      "source": [
        "a = np.random.randint(0,11,(3,3))\n",
        "a"
      ],
      "metadata": {
        "colab": {
          "base_uri": "https://localhost:8080/"
        },
        "id": "-dXUWb0t5tpQ",
        "outputId": "5d242814-25e4-4e53-fb26-9ea91e25f1a6"
      },
      "execution_count": 16,
      "outputs": [
        {
          "output_type": "execute_result",
          "data": {
            "text/plain": [
              "array([[3, 3, 9],\n",
              "       [4, 4, 5],\n",
              "       [3, 7, 9]])"
            ]
          },
          "metadata": {},
          "execution_count": 16
        }
      ]
    },
    {
      "cell_type": "markdown",
      "source": [
        "13. Обчислити визначник матриці"
      ],
      "metadata": {
        "id": "XtdJTZwX6b-5"
      }
    },
    {
      "cell_type": "code",
      "source": [
        "np.linalg.det(a)"
      ],
      "metadata": {
        "colab": {
          "base_uri": "https://localhost:8080/"
        },
        "id": "tCaMASMm6h4d",
        "outputId": "400e7f0c-1aff-4ec3-8e68-bcad93828f3c"
      },
      "execution_count": 17,
      "outputs": [
        {
          "output_type": "execute_result",
          "data": {
            "text/plain": [
              "np.float64(83.99999999999999)"
            ]
          },
          "metadata": {},
          "execution_count": 17
        }
      ]
    },
    {
      "cell_type": "markdown",
      "source": [
        "14. Знаходження оберненої матриці"
      ],
      "metadata": {
        "id": "t8RqWGjb6oi_"
      }
    },
    {
      "cell_type": "code",
      "source": [
        "np.linalg.inv(a)"
      ],
      "metadata": {
        "colab": {
          "base_uri": "https://localhost:8080/"
        },
        "id": "FMsJ8hth6uL0",
        "outputId": "5c7c4d5f-6235-40bd-dd58-b9aac1eac94d"
      },
      "execution_count": 18,
      "outputs": [
        {
          "output_type": "execute_result",
          "data": {
            "text/plain": [
              "array([[ 0.01190476,  0.42857143, -0.25      ],\n",
              "       [-0.25      ,  0.        ,  0.25      ],\n",
              "       [ 0.19047619, -0.14285714,  0.        ]])"
            ]
          },
          "metadata": {},
          "execution_count": 18
        }
      ]
    },
    {
      "cell_type": "markdown",
      "source": [
        "15. Розв'яжіть систему лінійних рівнянь A*x=b, де A - матриця коефіцієнтів, b - вектор вільних членів."
      ],
      "metadata": {
        "id": "M0EVLkrX7S72"
      }
    },
    {
      "cell_type": "code",
      "source": [
        "a = np.array([[1,3,-4], [0,2,-3], [-2,2,5]])\n",
        "b = np.array([5,3,4])\n",
        "\n",
        "x = np.linalg.solve(a,b)\n",
        "print(x)\n",
        "\n",
        "inv_a = np.linalg.inv(a)\n",
        "x1 = inv_a.dot(b)\n",
        "print(x1)"
      ],
      "metadata": {
        "colab": {
          "base_uri": "https://localhost:8080/"
        },
        "id": "tIC_W4Uc712v",
        "outputId": "5fd1365f-6624-4f7f-a219-d7fbba277b74"
      },
      "execution_count": 19,
      "outputs": [
        {
          "output_type": "stream",
          "name": "stdout",
          "text": [
            "[0.38888889 1.83333333 0.22222222]\n",
            "[0.38888889 1.83333333 0.22222222]\n"
          ]
        }
      ]
    },
    {
      "cell_type": "code",
      "source": [
        "16. Множення двох матриць"
      ],
      "metadata": {
        "id": "70EaUNsj8-U2"
      },
      "execution_count": null,
      "outputs": []
    },
    {
      "cell_type": "code",
      "source": [
        "a = np.array([[1,3,-4], [0,2,-3], [-2,2,5]])\n",
        "b = np.array([5,3,4])\n",
        "\n",
        "np.dot(a,b)"
      ],
      "metadata": {
        "colab": {
          "base_uri": "https://localhost:8080/"
        },
        "id": "-Pkv309H9GFw",
        "outputId": "7fcaba51-2e0b-49c8-a832-56c551d27d25"
      },
      "execution_count": 20,
      "outputs": [
        {
          "output_type": "execute_result",
          "data": {
            "text/plain": [
              "array([-2, -6, 16])"
            ]
          },
          "metadata": {},
          "execution_count": 20
        }
      ]
    },
    {
      "cell_type": "code",
      "source": [
        "a = np.matrix([[1,3,-4], [0,2,-3]])\n",
        "b = np.matrix([[5,3,4], [2,3,5], [3,2,3]])\n",
        "print(a)\n",
        "print(b)\n",
        "print(np.dot(a,b))"
      ],
      "metadata": {
        "colab": {
          "base_uri": "https://localhost:8080/"
        },
        "id": "xYSXMRNX9wFy",
        "outputId": "89d3d2ec-48e3-48e6-d4a4-e9040a7fecb4"
      },
      "execution_count": 21,
      "outputs": [
        {
          "output_type": "stream",
          "name": "stdout",
          "text": [
            "[[ 1  3 -4]\n",
            " [ 0  2 -3]]\n",
            "[[5 3 4]\n",
            " [2 3 5]\n",
            " [3 2 3]]\n",
            "[[-1  4  7]\n",
            " [-5  0  1]]\n"
          ]
        }
      ]
    },
    {
      "cell_type": "markdown",
      "source": [
        "17. Транспонування матриці"
      ],
      "metadata": {
        "id": "4VNovR4n-a5F"
      }
    },
    {
      "cell_type": "code",
      "source": [
        "print(a.T)\n",
        "print(b.T)"
      ],
      "metadata": {
        "colab": {
          "base_uri": "https://localhost:8080/"
        },
        "id": "bB0mDSqC-jbI",
        "outputId": "10d71769-b5e9-400d-8bb4-d9b40a8a573d"
      },
      "execution_count": 22,
      "outputs": [
        {
          "output_type": "stream",
          "name": "stdout",
          "text": [
            "[[ 1  0]\n",
            " [ 3  2]\n",
            " [-4 -3]]\n",
            "[[5 2 3]\n",
            " [3 3 2]\n",
            " [4 5 3]]\n"
          ]
        }
      ]
    },
    {
      "cell_type": "code",
      "source": [
        "print(np.transpose(a))\n",
        "print(np.transpose(b))"
      ],
      "metadata": {
        "colab": {
          "base_uri": "https://localhost:8080/"
        },
        "id": "MtaViziD-rFj",
        "outputId": "4a8be113-7d2e-431a-a7ad-2db529f28de8"
      },
      "execution_count": 23,
      "outputs": [
        {
          "output_type": "stream",
          "name": "stdout",
          "text": [
            "[[ 1  0]\n",
            " [ 3  2]\n",
            " [-4 -3]]\n",
            "[[5 2 3]\n",
            " [3 3 2]\n",
            " [4 5 3]]\n"
          ]
        }
      ]
    },
    {
      "cell_type": "markdown",
      "source": [
        "18. Перевірка симетричності матриці"
      ],
      "metadata": {
        "id": "Wl15nRD1-7Ba"
      }
    },
    {
      "cell_type": "code",
      "source": [
        "matrix = np.matrix([[2,2,2], [2,2,2], [2,2,2]])\n",
        "\n",
        "np.allclose(matrix, matrix.T)"
      ],
      "metadata": {
        "colab": {
          "base_uri": "https://localhost:8080/"
        },
        "id": "TO5-A_dR-_8c",
        "outputId": "6f044dfe-3dd8-4475-a698-8063bb82449a"
      },
      "execution_count": 24,
      "outputs": [
        {
          "output_type": "execute_result",
          "data": {
            "text/plain": [
              "True"
            ]
          },
          "metadata": {},
          "execution_count": 24
        }
      ]
    },
    {
      "cell_type": "markdown",
      "source": [
        "19. Обчислення сліду матриці"
      ],
      "metadata": {
        "id": "rtc1jBVD_U0H"
      }
    },
    {
      "cell_type": "code",
      "source": [
        "np.trace(matrix)"
      ],
      "metadata": {
        "colab": {
          "base_uri": "https://localhost:8080/"
        },
        "id": "K3x9M9YI_YZY",
        "outputId": "0af9d133-2db3-41d4-c4f7-453af731a76b"
      },
      "execution_count": 25,
      "outputs": [
        {
          "output_type": "execute_result",
          "data": {
            "text/plain": [
              "np.int64(6)"
            ]
          },
          "metadata": {},
          "execution_count": 25
        }
      ]
    },
    {
      "cell_type": "markdown",
      "source": [
        "20. Дії з матрицями"
      ],
      "metadata": {
        "id": "YXF9zNcU_e0B"
      }
    },
    {
      "cell_type": "code",
      "source": [
        "a = np.matrix([[1,2], [3,4]])\n",
        "b = np.matrix([[5,6], [7,8]])\n",
        "\n",
        "print(np.add(a,b))\n",
        "print(np.subtract(a,b))\n",
        "print(np.multiply(a,b))\n",
        "print(np.divide(a,b))"
      ],
      "metadata": {
        "colab": {
          "base_uri": "https://localhost:8080/"
        },
        "id": "3M5E8be__vgO",
        "outputId": "0b99fc9a-3192-488a-8174-841bb3a86130"
      },
      "execution_count": 26,
      "outputs": [
        {
          "output_type": "stream",
          "name": "stdout",
          "text": [
            "[[ 6  8]\n",
            " [10 12]]\n",
            "[[-4 -4]\n",
            " [-4 -4]]\n",
            "[[ 5 12]\n",
            " [21 32]]\n",
            "[[0.2        0.33333333]\n",
            " [0.42857143 0.5       ]]\n"
          ]
        }
      ]
    },
    {
      "cell_type": "markdown",
      "source": [
        "21. Піднесення матриці до ступеня"
      ],
      "metadata": {
        "id": "u1gY0oPhAjj3"
      }
    },
    {
      "cell_type": "code",
      "source": [
        "a = np.matrix([[1,2], [3,4]])\n",
        "\n",
        "np.linalg.matrix_power(a,2)"
      ],
      "metadata": {
        "colab": {
          "base_uri": "https://localhost:8080/"
        },
        "id": "nqJDkD1CAtUj",
        "outputId": "d5e8d13c-9a40-48ae-8fc5-ddfcbeadca25"
      },
      "execution_count": 27,
      "outputs": [
        {
          "output_type": "execute_result",
          "data": {
            "text/plain": [
              "matrix([[ 7, 10],\n",
              "        [15, 22]])"
            ]
          },
          "metadata": {},
          "execution_count": 27
        }
      ]
    },
    {
      "cell_type": "markdown",
      "source": [
        "22. Сортування рядків або стовпців матриці"
      ],
      "metadata": {
        "id": "vORZudmZBMHD"
      }
    },
    {
      "cell_type": "code",
      "source": [
        "b = np.matrix([[5,3,4], [2,3,5], [3,2,3]])\n",
        "\n",
        "print(b)\n",
        "print(np.sort(b, axis=0))\n",
        "print(np.sort(b, axis=1))\n",
        "print(np.sort(b, axis= None))"
      ],
      "metadata": {
        "colab": {
          "base_uri": "https://localhost:8080/"
        },
        "id": "GMqhdgtBBSqq",
        "outputId": "1d670ae3-4e12-4a8e-e3b6-637a3d331307"
      },
      "execution_count": 28,
      "outputs": [
        {
          "output_type": "stream",
          "name": "stdout",
          "text": [
            "[[5 3 4]\n",
            " [2 3 5]\n",
            " [3 2 3]]\n",
            "[[2 2 3]\n",
            " [3 3 4]\n",
            " [5 3 5]]\n",
            "[[3 4 5]\n",
            " [2 3 5]\n",
            " [2 3 3]]\n",
            "[[2 2 3 3 3 3 4 5 5]]\n"
          ]
        }
      ]
    },
    {
      "cell_type": "code",
      "source": [
        "a = np.array([[1,4], [3,1]])\n",
        "\n",
        "print(a)\n",
        "print(np.sort(a))"
      ],
      "metadata": {
        "colab": {
          "base_uri": "https://localhost:8080/"
        },
        "id": "A0FWRCcwB89_",
        "outputId": "e1a68224-4c60-4f38-eceb-b7961a8b6b53"
      },
      "execution_count": 29,
      "outputs": [
        {
          "output_type": "stream",
          "name": "stdout",
          "text": [
            "[[1 4]\n",
            " [3 1]]\n",
            "[[1 4]\n",
            " [1 3]]\n"
          ]
        }
      ]
    },
    {
      "cell_type": "markdown",
      "source": [
        "23. Підрахувати суму елементів кожного рядка матриці. Відповідь запиши, як вектор стовпчик."
      ],
      "metadata": {
        "id": "cxSMcMTfDQzW"
      }
    },
    {
      "cell_type": "code",
      "source": [
        "row_sums = np.sum(a, axis=1).reshape(-1,1)\n",
        "\n",
        "print(\"Сума елементів кожного рядка:\")\n",
        "print(row_sums)\n",
        "# В результаті отримали вектор - стовпчик"
      ],
      "metadata": {
        "colab": {
          "base_uri": "https://localhost:8080/"
        },
        "id": "nphl7JaBDfFq",
        "outputId": "ffc2fc2f-2d05-4786-df28-8bf1c94f73e3"
      },
      "execution_count": 30,
      "outputs": [
        {
          "output_type": "stream",
          "name": "stdout",
          "text": [
            "Сума елементів кожного рядка:\n",
            "[[5]\n",
            " [4]]\n"
          ]
        }
      ]
    },
    {
      "cell_type": "markdown",
      "source": [
        "**Висновок:** робота закріпила навички роботи з масивами, векторами та матрицями в Python, а також застосування базових лінійних та статистичних операцій."
      ],
      "metadata": {
        "id": "B_kOAeFLFFmN"
      }
    }
  ]
}