{
  "nbformat": 4,
  "nbformat_minor": 0,
  "metadata": {
    "colab": {
      "provenance": [],
      "authorship_tag": "ABX9TyOrDoB6CBdscTXz6P7Qopcg",
      "include_colab_link": true
    },
    "kernelspec": {
      "name": "python3",
      "display_name": "Python 3"
    },
    "language_info": {
      "name": "python"
    }
  },
  "cells": [
    {
      "cell_type": "markdown",
      "metadata": {
        "id": "view-in-github",
        "colab_type": "text"
      },
      "source": [
        "<a href=\"https://colab.research.google.com/github/Alisa7A/-/blob/main/%D0%9B%D0%B0%D0%B1_1_(%D0%A8%D0%B0%D0%BC%D1%96%D0%B3%D1%83%D0%BB%D0%BE%D0%B2%D0%BE%D1%97_%D0%90%D0%BB%D1%96%D1%81%D0%B8).ipynb\" target=\"_parent\"><img src=\"https://colab.research.google.com/assets/colab-badge.svg\" alt=\"Open In Colab\"/></a>"
      ]
    },
    {
      "cell_type": "code",
      "execution_count": 2,
      "metadata": {
        "colab": {
          "base_uri": "https://localhost:8080/",
          "height": 35
        },
        "id": "K2-oqwtCzfZm",
        "outputId": "4c9dae25-a5c3-4121-bf5d-cf9ff731e6f6"
      },
      "outputs": [
        {
          "output_type": "execute_result",
          "data": {
            "text/plain": [
              "'2.0.2'"
            ],
            "application/vnd.google.colaboratory.intrinsic+json": {
              "type": "string"
            }
          },
          "metadata": {},
          "execution_count": 2
        }
      ],
      "source": [
        "import numpy as np\n",
        "np.__version__"
      ]
    },
    {
      "cell_type": "markdown",
      "source": [
        "1. Створити матрицю 3*3, заповни її цілими випадковими числами від 1 до 5"
      ],
      "metadata": {
        "id": "1TbR8WlE0HLK"
      }
    },
    {
      "cell_type": "code",
      "source": [
        "matrix = np.random.randint(1,6, size=(3,3))\n",
        "matrix"
      ],
      "metadata": {
        "colab": {
          "base_uri": "https://localhost:8080/"
        },
        "id": "FnXY8zXV0hRo",
        "outputId": "b8254728-2424-4fd9-ee0c-baf9460b7c48"
      },
      "execution_count": 4,
      "outputs": [
        {
          "output_type": "execute_result",
          "data": {
            "text/plain": [
              "array([[1, 2, 1],\n",
              "       [2, 4, 4],\n",
              "       [4, 2, 3]])"
            ]
          },
          "metadata": {},
          "execution_count": 4
        }
      ]
    },
    {
      "cell_type": "markdown",
      "source": [
        "2. Обчислити визначник матриці"
      ],
      "metadata": {
        "id": "AnFfFM_O07R8"
      }
    },
    {
      "cell_type": "code",
      "source": [
        "det = np.linalg.det(matrix)\n",
        "det"
      ],
      "metadata": {
        "colab": {
          "base_uri": "https://localhost:8080/"
        },
        "id": "Y0Mav38i1BO5",
        "outputId": "c536d41a-b357-40b8-fc71-78461dbb47a4"
      },
      "execution_count": 5,
      "outputs": [
        {
          "output_type": "execute_result",
          "data": {
            "text/plain": [
              "np.float64(12.0)"
            ]
          },
          "metadata": {},
          "execution_count": 5
        }
      ]
    },
    {
      "cell_type": "markdown",
      "source": [
        "3. Знайти добуток всіх елементів матриці"
      ],
      "metadata": {
        "id": "FYHUJ2KH1O2u"
      }
    },
    {
      "cell_type": "code",
      "source": [
        "product = np.prod(matrix)\n",
        "product"
      ],
      "metadata": {
        "colab": {
          "base_uri": "https://localhost:8080/"
        },
        "id": "l8TL4HNN1Xeo",
        "outputId": "0a0600c4-b2bf-4591-8c6a-94998f6fa99b"
      },
      "execution_count": 6,
      "outputs": [
        {
          "output_type": "execute_result",
          "data": {
            "text/plain": [
              "np.int64(1536)"
            ]
          },
          "metadata": {},
          "execution_count": 6
        }
      ]
    },
    {
      "cell_type": "code",
      "source": [
        "prod_1 = np.prod(matrix[0])\n",
        "prod_2 = np.prod(matrix[1])\n",
        "prod_3 = np.prod(matrix[2])\n",
        "prod_1*prod_2*prod_3"
      ],
      "metadata": {
        "colab": {
          "base_uri": "https://localhost:8080/"
        },
        "id": "kuyb5X-51hiX",
        "outputId": "275e4281-335c-431c-d15d-6d102af6eb63"
      },
      "execution_count": 7,
      "outputs": [
        {
          "output_type": "execute_result",
          "data": {
            "text/plain": [
              "np.int64(1536)"
            ]
          },
          "metadata": {},
          "execution_count": 7
        }
      ]
    },
    {
      "cell_type": "markdown",
      "source": [
        "4. Знайти суму всіх елементів матриці"
      ],
      "metadata": {
        "id": "S3WhZCHQ1-_M"
      }
    },
    {
      "cell_type": "code",
      "source": [
        "sum = np.sum(matrix)\n",
        "sum"
      ],
      "metadata": {
        "colab": {
          "base_uri": "https://localhost:8080/"
        },
        "id": "Erjgjcyb2EqG",
        "outputId": "c693400e-41a3-46da-c02e-1a685627a946"
      },
      "execution_count": 8,
      "outputs": [
        {
          "output_type": "execute_result",
          "data": {
            "text/plain": [
              "np.int64(23)"
            ]
          },
          "metadata": {},
          "execution_count": 8
        }
      ]
    },
    {
      "cell_type": "markdown",
      "source": [
        "5. Обчислити найбільший, найменший елементи"
      ],
      "metadata": {
        "id": "9kUKV-zM2R_j"
      }
    },
    {
      "cell_type": "code",
      "source": [
        "max_element = np.max(matrix)\n",
        "print(\"Найбільший елемент матриці:\", max_element)\n",
        "min_element = np.min(matrix)\n",
        "print(\"Найменший елемент матриці:\", min_element)"
      ],
      "metadata": {
        "colab": {
          "base_uri": "https://localhost:8080/"
        },
        "id": "J3VBeQrW2a7z",
        "outputId": "639a1dcd-c852-4607-e58c-bbb554febc9e"
      },
      "execution_count": 9,
      "outputs": [
        {
          "output_type": "stream",
          "name": "stdout",
          "text": [
            "Найбільший елемент матриці: 4\n",
            "Найменший елемент матриці: 1\n"
          ]
        }
      ]
    },
    {
      "cell_type": "markdown",
      "source": [
        "6. Знайти середнє значення елементів матриці"
      ],
      "metadata": {
        "id": "oTITnB_B3Ql4"
      }
    },
    {
      "cell_type": "code",
      "source": [
        "mean = np.mean(matrix)\n",
        "print(\"Середнє значення елементів матриці:\", mean)"
      ],
      "metadata": {
        "colab": {
          "base_uri": "https://localhost:8080/"
        },
        "id": "0WgJtNKb3na7",
        "outputId": "bef562ce-ca36-4257-c139-34171b6e9616"
      },
      "execution_count": 10,
      "outputs": [
        {
          "output_type": "stream",
          "name": "stdout",
          "text": [
            "Середнє значення елементів матриці: 2.5555555555555554\n"
          ]
        }
      ]
    },
    {
      "cell_type": "markdown",
      "source": [
        "7. Знайти матрицю, що складена з квадратних коренів"
      ],
      "metadata": {
        "id": "j4l4142C5Yn6"
      }
    },
    {
      "cell_type": "code",
      "source": [
        "sqrt_matrix = np.sqrt(matrix)\n",
        "print(\"Матриця квадратних коренів:\")\n",
        "print(sqrt_matrix)"
      ],
      "metadata": {
        "colab": {
          "base_uri": "https://localhost:8080/"
        },
        "id": "Z4cmxp0C5k3B",
        "outputId": "5946cbe9-90f1-46ae-af40-7836aaac3c91"
      },
      "execution_count": 11,
      "outputs": [
        {
          "output_type": "stream",
          "name": "stdout",
          "text": [
            "Матриця квадратних коренів:\n",
            "[[1.         1.41421356 1.        ]\n",
            " [1.41421356 2.         2.        ]\n",
            " [2.         1.41421356 1.73205081]]\n"
          ]
        }
      ]
    },
    {
      "cell_type": "markdown",
      "source": [
        "8. Обчислити суму елементів кожного рядка. Відповідь записати як вектор-стовпчик"
      ],
      "metadata": {
        "id": "nqX4k6fL56_C"
      }
    },
    {
      "cell_type": "code",
      "source": [
        "row_sums = np.sum(matrix, axis=1).reshape(-1,1)\n",
        "print(\"Сума елементів кожного рядка:\")\n",
        "print(row_sums)\n",
        "#В результаті отримали вектор - стовпчик"
      ],
      "metadata": {
        "colab": {
          "base_uri": "https://localhost:8080/"
        },
        "id": "lsriMDrh6Hi4",
        "outputId": "3cb75b3b-5de1-4b16-95a4-9d00c1de9bdd"
      },
      "execution_count": 12,
      "outputs": [
        {
          "output_type": "stream",
          "name": "stdout",
          "text": [
            "Сума елементів кожного рядка:\n",
            "[[ 4]\n",
            " [10]\n",
            " [ 9]]\n"
          ]
        }
      ]
    },
    {
      "cell_type": "markdown",
      "source": [
        "9. Створити вектор, що містить 25 елементів. Заповнити числами від 0 до 9. Відсортувати числа за спаданням"
      ],
      "metadata": {
        "id": "ApaHscTK7qtX"
      }
    },
    {
      "cell_type": "code",
      "source": [
        "vector = np.random.randint(0,10,size=25)\n",
        "print(\"Початковий вектор:\")\n",
        "print(vector)\n",
        "\n",
        "#Сортуємо числа за спаданням\n",
        "sorted_vector = np.sort(vector)[::-1]\n",
        "\n",
        "print(\"Вектор після сортування за спаданням:\")\n",
        "print(sorted_vector)"
      ],
      "metadata": {
        "colab": {
          "base_uri": "https://localhost:8080/"
        },
        "id": "eHWrJejn78zm",
        "outputId": "7f60584a-c38f-4ebd-b4c0-42ee2ce5146b"
      },
      "execution_count": 13,
      "outputs": [
        {
          "output_type": "stream",
          "name": "stdout",
          "text": [
            "Початковий вектор:\n",
            "[1 1 7 4 9 7 0 5 3 2 9 7 8 7 1 8 4 8 7 3 4 2 2 6 5]\n",
            "Вектор після сортування за спаданням:\n",
            "[9 9 8 8 8 7 7 7 7 7 6 5 5 4 4 4 3 3 2 2 2 1 1 1 0]\n"
          ]
        }
      ]
    },
    {
      "cell_type": "markdown",
      "source": [
        "10.Знайти моду, медіану, середнє, максимальне, мінімальне значення"
      ],
      "metadata": {
        "id": "td9tHq5185H1"
      }
    },
    {
      "cell_type": "code",
      "source": [
        "from scipy import stats\n",
        "#Знаходимо моду\n",
        "mode = stats.mode(vector)\n",
        "\n",
        "#Знаходимо медіану\n",
        "median = np.median(vector)\n",
        "\n",
        "#Знаходимо середнє\n",
        "mean = np.mean(vector)\n",
        "\n",
        "#Знаходимо максимальне значення\n",
        "max_value = np.max(vector)\n",
        "\n",
        "#Знаходимо мінімальне значення\n",
        "min_value = np.min(vector)\n",
        "\n",
        "print(\"Мода:\", mode)\n",
        "print(\"Медіана:\", median)\n",
        "print(\"Середнє:\", mean)\n",
        "print(\"Максимальне значення:\", max_value)\n",
        "print(\"Мінімальне значення:\", min_value)"
      ],
      "metadata": {
        "colab": {
          "base_uri": "https://localhost:8080/"
        },
        "id": "Fr9JkqZk9GOG",
        "outputId": "e180efb5-b15a-4c10-cebc-5705401dcd5b"
      },
      "execution_count": 15,
      "outputs": [
        {
          "output_type": "stream",
          "name": "stdout",
          "text": [
            "Мода: ModeResult(mode=np.int64(7), count=np.int64(5))\n",
            "Медіана: 5.0\n",
            "Середнє: 4.8\n",
            "Максимальне значення: 9\n",
            "Мінімальне значення: 0\n"
          ]
        }
      ]
    },
    {
      "cell_type": "markdown",
      "source": [
        "11. Створити дві матриці 4*4, заповнені числами від 1 до 10. Обчислити суму, різницю, поелементний добуток, частку"
      ],
      "metadata": {
        "id": "HVMK-XUj_A6I"
      }
    },
    {
      "cell_type": "code",
      "source": [
        "# Створюємо дві матриці 4х4 із випадкових цілих чисел від 1 до 10\n",
        "matrix1  = np.random.randint(1,11, size=(4,4))\n",
        "matrix2  = np.random.randint(1,11, size=(4,4))\n",
        "\n",
        "print(\"Матриця 1:\")\n",
        "print(matrix1)\n",
        "\n",
        "print(\"Матриця 2:\")\n",
        "print(matrix2)"
      ],
      "metadata": {
        "colab": {
          "base_uri": "https://localhost:8080/"
        },
        "id": "LUza5SHt_V_F",
        "outputId": "6ca0cbab-52bf-437f-c97a-55f7ea1e302e"
      },
      "execution_count": 16,
      "outputs": [
        {
          "output_type": "stream",
          "name": "stdout",
          "text": [
            "Матриця 1:\n",
            "[[6 1 6 3]\n",
            " [3 8 7 1]\n",
            " [7 7 5 7]\n",
            " [5 6 9 1]]\n",
            "Матриця 2:\n",
            "[[ 9  3  1  4]\n",
            " [ 1  8  9  7]\n",
            " [ 1  7  3  7]\n",
            " [ 8 10  6  7]]\n"
          ]
        }
      ]
    },
    {
      "cell_type": "code",
      "source": [
        "#Обчислюємо суму матриць\n",
        "matrix_sum = matrix1 + matrix2\n",
        "\n",
        "#Обчислюємо різницю матриць\n",
        "matrix_diff = matrix1 - matrix2\n",
        "\n",
        "#Обчислюємо поелементний добуток матриць\n",
        "matrix_product = matrix1 * matrix2\n",
        "\n",
        "#Обчислюємо поелементну частку матриць\n",
        "#Для запобігання ділення на нуль, використовуємо np.divide з параметром where\n",
        "matrix_division = np.divide(matrix1, matrix2, where=(matrix2!=0))\n",
        "\n",
        "print(\"\\nСума матриць:\")\n",
        "print(matrix_sum)\n",
        "\n",
        "print(\"\\nРізниця матриць:\")\n",
        "print(matrix_diff)\n",
        "\n",
        "print(\"\\nПоелементний добуток матриць:\")\n",
        "print(matrix_product)\n",
        "\n",
        "print(\"\\nПоелементна частка матриць:\")\n",
        "print(matrix_division)"
      ],
      "metadata": {
        "colab": {
          "base_uri": "https://localhost:8080/"
        },
        "id": "y3Clxbi9Adcn",
        "outputId": "58543c44-f99f-47fc-d781-98b099b7b394"
      },
      "execution_count": 17,
      "outputs": [
        {
          "output_type": "stream",
          "name": "stdout",
          "text": [
            "\n",
            "Сума матриць:\n",
            "[[15  4  7  7]\n",
            " [ 4 16 16  8]\n",
            " [ 8 14  8 14]\n",
            " [13 16 15  8]]\n",
            "\n",
            "Різниця матриць:\n",
            "[[-3 -2  5 -1]\n",
            " [ 2  0 -2 -6]\n",
            " [ 6  0  2  0]\n",
            " [-3 -4  3 -6]]\n",
            "\n",
            "Поелементний добуток матриць:\n",
            "[[54  3  6 12]\n",
            " [ 3 64 63  7]\n",
            " [ 7 49 15 49]\n",
            " [40 60 54  7]]\n",
            "\n",
            "Поелементна частка матриць:\n",
            "[[0.66666667 0.33333333 6.         0.75      ]\n",
            " [3.         1.         0.77777778 0.14285714]\n",
            " [7.         1.         1.66666667 1.        ]\n",
            " [0.625      0.6        1.5        0.14285714]]\n"
          ]
        }
      ]
    },
    {
      "cell_type": "markdown",
      "source": [
        "**Висновок:** У роботі були створені матриці та вектори, виконані основні операції над ними: обчислення визначника, суми, добутку, середнього, мінімального та максимального значень, а також статистичних характеристик (моди, медіани). Проведено арифметичні операції з матрицями."
      ],
      "metadata": {
        "id": "qZ-2LLZFEKFm"
      }
    },
    {
      "cell_type": "markdown",
      "source": [],
      "metadata": {
        "id": "5ynfci9pDyGb"
      }
    }
  ]
}